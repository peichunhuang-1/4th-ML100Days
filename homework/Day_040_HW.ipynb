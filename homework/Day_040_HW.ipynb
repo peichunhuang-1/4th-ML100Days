{
 "cells": [
  {
   "cell_type": "markdown",
   "metadata": {},
   "source": [
    "## [作業重點]\n",
    "使用 Sklearn 中的 Lasso, Ridge 模型，來訓練各種資料集，務必了解送進去模型訓練的**資料型態**為何，也請了解模型中各項參數的意義。\n",
    "\n",
    "機器學習的模型非常多種，但要訓練的資料多半有固定的格式，確保你了解訓練資料的格式為何，這樣在應用新模型時，就能夠最快的上手開始訓練！"
   ]
  },
  {
   "cell_type": "markdown",
   "metadata": {},
   "source": [
    "## 練習時間\n",
    "試著使用 sklearn datasets 的其他資料集 (boston, ...)，來訓練自己的線性迴歸模型，並加上適當的正則化來觀察訓練情形。"
   ]
  },
  {
   "cell_type": "code",
   "execution_count": 35,
   "metadata": {},
   "outputs": [],
   "source": [
    "import numpy as np\n",
    "import matplotlib.pyplot as plt\n",
    "from sklearn import datasets\n",
    "from sklearn.model_selection import train_test_split\n",
    "from sklearn.metrics import mean_squared_error, r2_score, accuracy_score\n",
    "from sklearn.linear_model import LinearRegression, LogisticRegression,Lasso\n",
    ""
   ]
  },
  {
   "cell_type": "code",
   "execution_count": 36,
   "metadata": {},
   "outputs": [],
   "source": [
    "wine=datasets.load_wine()\n",
    "train_x,test_x,train_y,test_y=train_test_split(wine.data,wine.target,test_size=0.1,random_state=4)\n",
    ""
   ]
  },
  {
   "cell_type": "code",
   "execution_count": 37,
   "metadata": {},
   "outputs": [
    {
     "output_type": "stream",
     "name": "stdout",
     "text": "alpha=0.0\n[-1.05070118e-01  2.91905944e-02 -1.77867960e-01  4.31547165e-02\n  1.01210209e-04  1.49892356e-01 -3.70827482e-01 -2.59847929e-01\n  4.22928548e-02  7.46189422e-02 -1.58479025e-01 -2.64616732e-01\n -7.43793043e-04]\nMean squared error: 0.07\nalpha=0.1\n[-0.          0.         -0.          0.02903446  0.00036735 -0.\n -0.29879073  0.         -0.          0.09727668 -0.         -0.\n -0.00123357]\nMean squared error: 0.11\nalpha=0.2\n[-0.          0.         -0.          0.02279637  0.         -0.\n -0.17119313  0.         -0.          0.09836218 -0.         -0.\n -0.00145019]\nMean squared error: 0.15\nalpha=0.30000000000000004\n[-0.          0.         -0.          0.01642287  0.         -0.\n -0.04397539  0.         -0.          0.09925361 -0.         -0.\n -0.00167324]\nMean squared error: 0.21\nalpha=0.4\n[ 0.          0.          0.          0.00823516  0.         -0.\n -0.          0.         -0.          0.08769929 -0.         -0.\n -0.00175128]\nMean squared error: 0.25\nalpha=0.5\n[ 0.          0.          0.          0.          0.         -0.\n -0.          0.         -0.          0.06936937 -0.         -0.\n -0.00174798]\nMean squared error: 0.28\nalpha=0.6000000000000001\n[ 0.          0.          0.          0.          0.         -0.\n -0.          0.         -0.          0.04921833 -0.         -0.\n -0.00170184]\nMean squared error: 0.30\nalpha=0.7000000000000001\n[ 0.          0.          0.          0.          0.         -0.\n -0.          0.         -0.          0.0290674  -0.         -0.\n -0.00165571]\nMean squared error: 0.33\nalpha=0.8\n[ 0.          0.          0.          0.          0.         -0.\n -0.          0.         -0.          0.00891639 -0.         -0.\n -0.00160957]\nMean squared error: 0.35\nalpha=0.9\n[ 0.          0.          0.          0.          0.         -0.\n -0.          0.         -0.          0.         -0.         -0.\n -0.00158855]\nMean squared error: 0.37\n"
    }
   ],
   "source": [
    "for i in range(10):    \n",
    "    lasso=Lasso(alpha=0.1*i)\n",
    "    lasso.fit(train_x,train_y)\n",
    "    yp=lasso.predict(test_x)\n",
    "    print(f\"alpha={i*0.1}\")\n",
    "    print(lasso.coef_)\n",
    "    print(\"Mean squared error: %.2f\"% mean_squared_error(test_y,yp))\n",
    "    #看起來並沒有比較好，因為模型可能並不複雜。"
   ]
  }
 ],
 "metadata": {
  "kernelspec": {
   "display_name": "Python 3",
   "language": "python",
   "name": "python3"
  },
  "language_info": {
   "codemirror_mode": {
    "name": "ipython",
    "version": 3
   },
   "file_extension": ".py",
   "mimetype": "text/x-python",
   "name": "python",
   "nbconvert_exporter": "python",
   "pygments_lexer": "ipython3",
   "version": "3.7.3-final"
  }
 },
 "nbformat": 4,
 "nbformat_minor": 2
}