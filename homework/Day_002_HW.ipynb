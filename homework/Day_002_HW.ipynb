{
 "cells": [
  {
   "cell_type": "markdown",
   "metadata": {},
   "source": [
    "## [作業目標]\n",
    "了解機器學習適合應用的領域與範疇。"
   ]
  },
  {
   "cell_type": "markdown",
   "metadata": {},
   "source": [
    "## [作業重點]\n",
    "透過瞭解機器學習的運作方式，找出非常適用機器學習應用的領域及其原因"
   ]
  },
  {
   "cell_type": "markdown",
   "metadata": {},
   "source": [
    "## 作業\n",
    "請找出一個你認為機器學習可以發光發熱的領域並闡述原因? "
   ]
  },
  {
   "cell_type": "markdown",
   "metadata": {},
   "source": [
    "個人化醫療：\n",
    "在現代醫療中，診斷疾病不容忽視，然而我們的醫護人手卻不足以完美診斷所有病人的病因，諸如\n",
    "放射線科的片子，一位醫生可能要看好幾百片張，在這樣的環境下，誤診和人為疏失難以避免。而\n",
    "如果利用機器學習，不僅可以節省醫院人力，提高準確度，亦可以如同線上問診的方式，消除病患\n",
    "內心不安，減少不必要醫療資源消耗，或提前發現微小症狀促使病患就醫檢查。如能實現人人在家\n",
    "都能自我檢視，相信未來人們定能生活得更加健康。\n"
   ]
  },
  {
   "cell_type": "code",
   "execution_count": null,
   "metadata": {},
   "outputs": [],
   "source": []
  }
 ],
 "metadata": {
  "kernelspec": {
   "display_name": "Python 3",
   "language": "python",
   "name": "python3"
  },
  "language_info": {
   "codemirror_mode": {
    "name": "ipython",
    "version": 3
   },
   "file_extension": ".py",
   "mimetype": "text/x-python",
   "name": "python",
   "nbconvert_exporter": "python",
   "pygments_lexer": "ipython3",
   "version": "3.7.3"
  }
 },
 "nbformat": 4,
 "nbformat_minor": 2
}
