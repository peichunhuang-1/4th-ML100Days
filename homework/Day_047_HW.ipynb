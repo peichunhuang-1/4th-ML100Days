{
 "cells": [
  {
   "cell_type": "markdown",
   "metadata": {},
   "source": [
    "## [作業重點]\n",
    "了解如何使用 Sklearn 中的 hyper-parameter search 找出最佳的超參數"
   ]
  },
  {
   "cell_type": "markdown",
   "metadata": {},
   "source": [
    "### 作業\n",
    "請使用不同的資料集，並使用 hyper-parameter search 的方式，看能不能找出最佳的超參數組合"
   ]
  },
  {
   "cell_type": "code",
   "execution_count": 1,
   "metadata": {},
   "outputs": [],
   "source": [
    "from sklearn import datasets,metrics\n",
    "from sklearn.ensemble import GradientBoostingRegressor\n",
    "from sklearn.model_selection import train_test_split,KFold,GridSearchCV\n",
    "\n",
    ""
   ]
  },
  {
   "cell_type": "code",
   "execution_count": 2,
   "metadata": {},
   "outputs": [],
   "source": [
    "iris=datasets.load_iris()\n",
    "train_x,test_x,train_y,test_y=train_test_split(iris.data,iris.target,test_size=0.2,random_state=10)\n",
    "gbr=GradientBoostingRegressor(random_state=10)\n",
    ""
   ]
  },
  {
   "cell_type": "code",
   "execution_count": 3,
   "metadata": {},
   "outputs": [
    {
     "output_type": "stream",
     "name": "stdout",
     "text": "mse= 0.013094515143458453\n"
    }
   ],
   "source": [
    "gbr.fit(train_x,train_y)\n",
    "y_pred=gbr.predict(test_x)\n",
    "print(\"mse=\",metrics.mean_squared_error(test_y,y_pred))"
   ]
  },
  {
   "cell_type": "code",
   "execution_count": 12,
   "metadata": {},
   "outputs": [
    {
     "output_type": "stream",
     "name": "stdout",
     "text": "Fitting 3 folds for each of 9 candidates, totalling 27 fits\nBest Accuracy: -0.053869 using {'max_depth': 3, 'n_estimators': 30}\n[Parallel(n_jobs=-1)]: Using backend LokyBackend with 4 concurrent workers.\n[Parallel(n_jobs=-1)]: Done  27 out of  27 | elapsed:    0.1s finished\n"
    }
   ],
   "source": [
    "n_estimators=[10,20,30]\n",
    "max_depth=[3,4,5]\n",
    "param=dict(n_estimators=n_estimators,max_depth=max_depth)\n",
    "grid_serch=GridSearchCV(gbr,param,scoring=\"neg_mean_squared_error\",n_jobs=-1,verbose=1)\n",
    "grid_result=grid_serch.fit(train_x,train_y)\n",
    "print(\"Best Accuracy: %f using %s\" % (grid_result.best_score_, grid_result.best_params_))"
   ]
  },
  {
   "cell_type": "code",
   "execution_count": 13,
   "metadata": {},
   "outputs": [
    {
     "output_type": "execute_result",
     "data": {
      "text/plain": "{'max_depth': 3, 'n_estimators': 30}"
     },
     "metadata": {},
     "execution_count": 13
    }
   ],
   "source": [
    "grid_result.best_params_"
   ]
  },
  {
   "cell_type": "code",
   "execution_count": 15,
   "metadata": {},
   "outputs": [
    {
     "output_type": "stream",
     "name": "stdout",
     "text": "0.012251820350358478\n"
    }
   ],
   "source": [
    "gbr_best_param=GradientBoostingRegressor(max_depth=3,n_estimators=30)\n",
    "gbr_best_param.fit(train_x,train_y)\n",
    "y_pred=gbr_best_param.predict(test_x)\n",
    "print(metrics.mean_squared_error(test_y, y_pred))\n",
    "#有些許不太明顯的下降"
   ]
  },
  {
   "cell_type": "code",
   "execution_count": null,
   "metadata": {},
   "outputs": [],
   "source": []
  }
 ],
 "metadata": {
  "kernelspec": {
   "display_name": "Python 3",
   "language": "python",
   "name": "python3"
  },
  "language_info": {
   "codemirror_mode": {
    "name": "ipython",
    "version": 3
   },
   "file_extension": ".py",
   "mimetype": "text/x-python",
   "name": "python",
   "nbconvert_exporter": "python",
   "pygments_lexer": "ipython3",
   "version": "3.7.3-final"
  }
 },
 "nbformat": 4,
 "nbformat_minor": 2
}